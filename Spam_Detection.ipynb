{
  "nbformat": 4,
  "nbformat_minor": 0,
  "metadata": {
    "colab": {
      "name": "Spam Detection.ipynb",
      "provenance": [],
      "collapsed_sections": [],
      "authorship_tag": "ABX9TyPamNyh+UwfFPENqDyhsgN0",
      "include_colab_link": true
    },
    "kernelspec": {
      "name": "python3",
      "display_name": "Python 3"
    },
    "language_info": {
      "name": "python"
    }
  },
  "cells": [
    {
      "cell_type": "markdown",
      "metadata": {
        "id": "view-in-github",
        "colab_type": "text"
      },
      "source": [
        "<a href=\"https://colab.research.google.com/github/omidkhalafbeigi/spam_detection/blob/main/Spam_Detection.ipynb\" target=\"_parent\"><img src=\"https://colab.research.google.com/assets/colab-badge.svg\" alt=\"Open In Colab\"/></a>"
      ]
    },
    {
      "cell_type": "code",
      "metadata": {
        "id": "7H5mCCIUDwWa"
      },
      "source": [
        "import pandas as pd\n",
        "import numpy as np\n",
        "from tensorflow import keras\n",
        "from google.colab import files, drive\n",
        "from sklearn.feature_extraction.text import CountVectorizer\n",
        "from sklearn.naive_bayes import MultinomialNB\n",
        "from sklearn.metrics import accuracy_score\n",
        "from sklearn.model_selection import train_test_split"
      ],
      "execution_count": 232,
      "outputs": []
    },
    {
      "cell_type": "code",
      "metadata": {
        "id": "sBToqzXIot-P"
      },
      "source": [
        "files.upload()"
      ],
      "execution_count": null,
      "outputs": []
    },
    {
      "cell_type": "code",
      "metadata": {
        "id": "F-V62N38payR"
      },
      "source": [
        "# drive.mount('content')"
      ],
      "execution_count": 56,
      "outputs": []
    },
    {
      "cell_type": "code",
      "metadata": {
        "id": "j0YtbbUMp-M-"
      },
      "source": [
        "dataset = pd.read_csv('spam.csv', encoding='ISO-8859-1')"
      ],
      "execution_count": 233,
      "outputs": []
    },
    {
      "cell_type": "code",
      "metadata": {
        "colab": {
          "base_uri": "https://localhost:8080/",
          "height": 206
        },
        "id": "PR0Pj4VYqMlH",
        "outputId": "d178fd8e-5aaa-46f4-d978-f27247b84673"
      },
      "source": [
        "dataset.head()"
      ],
      "execution_count": 234,
      "outputs": [
        {
          "output_type": "execute_result",
          "data": {
            "text/html": [
              "<div>\n",
              "<style scoped>\n",
              "    .dataframe tbody tr th:only-of-type {\n",
              "        vertical-align: middle;\n",
              "    }\n",
              "\n",
              "    .dataframe tbody tr th {\n",
              "        vertical-align: top;\n",
              "    }\n",
              "\n",
              "    .dataframe thead th {\n",
              "        text-align: right;\n",
              "    }\n",
              "</style>\n",
              "<table border=\"1\" class=\"dataframe\">\n",
              "  <thead>\n",
              "    <tr style=\"text-align: right;\">\n",
              "      <th></th>\n",
              "      <th>v1</th>\n",
              "      <th>v2</th>\n",
              "      <th>Unnamed: 2</th>\n",
              "      <th>Unnamed: 3</th>\n",
              "      <th>Unnamed: 4</th>\n",
              "    </tr>\n",
              "  </thead>\n",
              "  <tbody>\n",
              "    <tr>\n",
              "      <th>0</th>\n",
              "      <td>ham</td>\n",
              "      <td>Go until jurong point, crazy.. Available only ...</td>\n",
              "      <td>NaN</td>\n",
              "      <td>NaN</td>\n",
              "      <td>NaN</td>\n",
              "    </tr>\n",
              "    <tr>\n",
              "      <th>1</th>\n",
              "      <td>ham</td>\n",
              "      <td>Ok lar... Joking wif u oni...</td>\n",
              "      <td>NaN</td>\n",
              "      <td>NaN</td>\n",
              "      <td>NaN</td>\n",
              "    </tr>\n",
              "    <tr>\n",
              "      <th>2</th>\n",
              "      <td>spam</td>\n",
              "      <td>Free entry in 2 a wkly comp to win FA Cup fina...</td>\n",
              "      <td>NaN</td>\n",
              "      <td>NaN</td>\n",
              "      <td>NaN</td>\n",
              "    </tr>\n",
              "    <tr>\n",
              "      <th>3</th>\n",
              "      <td>ham</td>\n",
              "      <td>U dun say so early hor... U c already then say...</td>\n",
              "      <td>NaN</td>\n",
              "      <td>NaN</td>\n",
              "      <td>NaN</td>\n",
              "    </tr>\n",
              "    <tr>\n",
              "      <th>4</th>\n",
              "      <td>ham</td>\n",
              "      <td>Nah I don't think he goes to usf, he lives aro...</td>\n",
              "      <td>NaN</td>\n",
              "      <td>NaN</td>\n",
              "      <td>NaN</td>\n",
              "    </tr>\n",
              "  </tbody>\n",
              "</table>\n",
              "</div>"
            ],
            "text/plain": [
              "     v1  ... Unnamed: 4\n",
              "0   ham  ...        NaN\n",
              "1   ham  ...        NaN\n",
              "2  spam  ...        NaN\n",
              "3   ham  ...        NaN\n",
              "4   ham  ...        NaN\n",
              "\n",
              "[5 rows x 5 columns]"
            ]
          },
          "metadata": {
            "tags": []
          },
          "execution_count": 234
        }
      ]
    },
    {
      "cell_type": "code",
      "metadata": {
        "id": "2C3VOGXmroiv"
      },
      "source": [
        "X = dataset['v2']\n",
        "y = dataset['v1']"
      ],
      "execution_count": 235,
      "outputs": []
    },
    {
      "cell_type": "code",
      "metadata": {
        "id": "WLHj-_zbGDZy"
      },
      "source": [
        "y = y.map({'ham': 0, 'spam': 1})"
      ],
      "execution_count": 236,
      "outputs": []
    },
    {
      "cell_type": "code",
      "metadata": {
        "id": "lrVQLDkt_jEr"
      },
      "source": [
        "vectorizer = CountVectorizer()"
      ],
      "execution_count": 237,
      "outputs": []
    },
    {
      "cell_type": "code",
      "metadata": {
        "id": "a_8IpQ-5_uPk"
      },
      "source": [
        "X = vectorizer.fit_transform(X).toarray()"
      ],
      "execution_count": 238,
      "outputs": []
    },
    {
      "cell_type": "code",
      "metadata": {
        "id": "tBDR1DSPKdp9"
      },
      "source": [
        "X_train, X_test, y_train, y_test =  train_test_split(X, y, test_size=0.33)"
      ],
      "execution_count": 240,
      "outputs": []
    },
    {
      "cell_type": "code",
      "metadata": {
        "id": "IK6K-OrSGS3h"
      },
      "source": [
        "model = MultinomialNB()"
      ],
      "execution_count": 241,
      "outputs": []
    },
    {
      "cell_type": "code",
      "metadata": {
        "colab": {
          "base_uri": "https://localhost:8080/"
        },
        "id": "DVrulaqvGcvH",
        "outputId": "c39fba0d-fa56-4344-cb38-76dbae1e55db"
      },
      "source": [
        "model.fit(X_train, y_train)"
      ],
      "execution_count": 242,
      "outputs": [
        {
          "output_type": "execute_result",
          "data": {
            "text/plain": [
              "MultinomialNB(alpha=1.0, class_prior=None, fit_prior=True)"
            ]
          },
          "metadata": {
            "tags": []
          },
          "execution_count": 242
        }
      ]
    },
    {
      "cell_type": "code",
      "metadata": {
        "id": "H7y2nX9NGwk1"
      },
      "source": [
        "predicted = model.predict(X_test)"
      ],
      "execution_count": 243,
      "outputs": []
    },
    {
      "cell_type": "code",
      "metadata": {
        "colab": {
          "base_uri": "https://localhost:8080/"
        },
        "id": "a0fUFLhiLF1C",
        "outputId": "7d8135de-6f42-45dd-d976-1112385d02f2"
      },
      "source": [
        "accuracy_score(y_true=y_test, y_pred=predicted)"
      ],
      "execution_count": 244,
      "outputs": [
        {
          "output_type": "execute_result",
          "data": {
            "text/plain": [
              "0.9809679173463839"
            ]
          },
          "metadata": {
            "tags": []
          },
          "execution_count": 244
        }
      ]
    },
    {
      "cell_type": "code",
      "metadata": {
        "id": "sM8oBFneOn8u"
      },
      "source": [
        "model = keras.Sequential()"
      ],
      "execution_count": 286,
      "outputs": []
    },
    {
      "cell_type": "code",
      "metadata": {
        "id": "UHnSan7UPEgT"
      },
      "source": [
        "model.add(keras.layers.Dense(100, activation='sigmoid'))"
      ],
      "execution_count": 287,
      "outputs": []
    },
    {
      "cell_type": "code",
      "metadata": {
        "id": "czpXi-sAPIx3"
      },
      "source": [
        "model.add(keras.layers.Dense(1, activation='sigmoid'))"
      ],
      "execution_count": 288,
      "outputs": []
    },
    {
      "cell_type": "code",
      "metadata": {
        "id": "H1Z614oxPMu0"
      },
      "source": [
        "model.compile(optimizer='adam', loss='binary_crossentropy', metrics='accuracy')"
      ],
      "execution_count": 289,
      "outputs": []
    },
    {
      "cell_type": "code",
      "metadata": {
        "colab": {
          "base_uri": "https://localhost:8080/"
        },
        "id": "6DiH4PUTPYlQ",
        "outputId": "678229b7-76ce-459c-c6e9-3327d3a6e994"
      },
      "source": [
        "model.fit(X_train, y_train, epochs=100, batch_size=32)"
      ],
      "execution_count": 290,
      "outputs": [
        {
          "output_type": "stream",
          "text": [
            "Epoch 1/100\n",
            "117/117 [==============================] - 1s 7ms/step - loss: 0.4635 - accuracy: 0.7615\n",
            "Epoch 2/100\n",
            "117/117 [==============================] - 1s 7ms/step - loss: 0.1736 - accuracy: 0.9454\n",
            "Epoch 3/100\n",
            "117/117 [==============================] - 1s 7ms/step - loss: 0.0903 - accuracy: 0.9785\n",
            "Epoch 4/100\n",
            "117/117 [==============================] - 1s 7ms/step - loss: 0.0623 - accuracy: 0.9844\n",
            "Epoch 5/100\n",
            "117/117 [==============================] - 1s 7ms/step - loss: 0.0432 - accuracy: 0.9888\n",
            "Epoch 6/100\n",
            "117/117 [==============================] - 1s 7ms/step - loss: 0.0336 - accuracy: 0.9915\n",
            "Epoch 7/100\n",
            "117/117 [==============================] - 1s 7ms/step - loss: 0.0232 - accuracy: 0.9955\n",
            "Epoch 8/100\n",
            "117/117 [==============================] - 1s 7ms/step - loss: 0.0175 - accuracy: 0.9971\n",
            "Epoch 9/100\n",
            "117/117 [==============================] - 1s 7ms/step - loss: 0.0134 - accuracy: 0.9984\n",
            "Epoch 10/100\n",
            "117/117 [==============================] - 1s 7ms/step - loss: 0.0111 - accuracy: 0.9994\n",
            "Epoch 11/100\n",
            "117/117 [==============================] - 1s 7ms/step - loss: 0.0087 - accuracy: 0.9999\n",
            "Epoch 12/100\n",
            "117/117 [==============================] - 1s 7ms/step - loss: 0.0085 - accuracy: 0.9995\n",
            "Epoch 13/100\n",
            "117/117 [==============================] - 1s 7ms/step - loss: 0.0076 - accuracy: 0.9994\n",
            "Epoch 14/100\n",
            "117/117 [==============================] - 1s 7ms/step - loss: 0.0074 - accuracy: 0.9990\n",
            "Epoch 15/100\n",
            "117/117 [==============================] - 1s 7ms/step - loss: 0.0048 - accuracy: 0.9996\n",
            "Epoch 16/100\n",
            "117/117 [==============================] - 1s 7ms/step - loss: 0.0052 - accuracy: 0.9995\n",
            "Epoch 17/100\n",
            "117/117 [==============================] - 1s 7ms/step - loss: 0.0051 - accuracy: 0.9995\n",
            "Epoch 18/100\n",
            "117/117 [==============================] - 1s 7ms/step - loss: 0.0039 - accuracy: 0.9995\n",
            "Epoch 19/100\n",
            "117/117 [==============================] - 1s 7ms/step - loss: 0.0042 - accuracy: 0.9993\n",
            "Epoch 20/100\n",
            "117/117 [==============================] - 1s 7ms/step - loss: 0.0025 - accuracy: 0.9998\n",
            "Epoch 21/100\n",
            "117/117 [==============================] - 1s 7ms/step - loss: 0.0051 - accuracy: 0.9982\n",
            "Epoch 22/100\n",
            "117/117 [==============================] - 1s 7ms/step - loss: 0.0026 - accuracy: 0.9996\n",
            "Epoch 23/100\n",
            "117/117 [==============================] - 1s 7ms/step - loss: 0.0030 - accuracy: 0.9992\n",
            "Epoch 24/100\n",
            "117/117 [==============================] - 1s 7ms/step - loss: 0.0022 - accuracy: 0.9995\n",
            "Epoch 25/100\n",
            "117/117 [==============================] - 1s 7ms/step - loss: 0.0019 - accuracy: 0.9998\n",
            "Epoch 26/100\n",
            "117/117 [==============================] - 1s 7ms/step - loss: 0.0024 - accuracy: 0.9994\n",
            "Epoch 27/100\n",
            "117/117 [==============================] - 1s 7ms/step - loss: 0.0015 - accuracy: 0.9997\n",
            "Epoch 28/100\n",
            "117/117 [==============================] - 1s 7ms/step - loss: 0.0012 - accuracy: 0.9997\n",
            "Epoch 29/100\n",
            "117/117 [==============================] - 1s 7ms/step - loss: 0.0017 - accuracy: 0.9997\n",
            "Epoch 30/100\n",
            "117/117 [==============================] - 1s 7ms/step - loss: 0.0010 - accuracy: 0.9999\n",
            "Epoch 31/100\n",
            "117/117 [==============================] - 1s 7ms/step - loss: 0.0015 - accuracy: 0.9996\n",
            "Epoch 32/100\n",
            "117/117 [==============================] - 1s 7ms/step - loss: 9.7809e-04 - accuracy: 0.9999\n",
            "Epoch 33/100\n",
            "117/117 [==============================] - 1s 7ms/step - loss: 0.0010 - accuracy: 0.9999\n",
            "Epoch 34/100\n",
            "117/117 [==============================] - 1s 7ms/step - loss: 0.0017 - accuracy: 0.9996\n",
            "Epoch 35/100\n",
            "117/117 [==============================] - 1s 7ms/step - loss: 5.5617e-04 - accuracy: 1.0000\n",
            "Epoch 36/100\n",
            "117/117 [==============================] - 1s 7ms/step - loss: 0.0016 - accuracy: 0.9994\n",
            "Epoch 37/100\n",
            "117/117 [==============================] - 1s 7ms/step - loss: 7.0069e-04 - accuracy: 0.9999\n",
            "Epoch 38/100\n",
            "117/117 [==============================] - 1s 7ms/step - loss: 0.0013 - accuracy: 0.9993\n",
            "Epoch 39/100\n",
            "117/117 [==============================] - 1s 7ms/step - loss: 6.0063e-04 - accuracy: 0.9999\n",
            "Epoch 40/100\n",
            "117/117 [==============================] - 1s 7ms/step - loss: 5.2586e-04 - accuracy: 0.9999\n",
            "Epoch 41/100\n",
            "117/117 [==============================] - 1s 7ms/step - loss: 4.1340e-04 - accuracy: 1.0000\n",
            "Epoch 42/100\n",
            "117/117 [==============================] - 1s 7ms/step - loss: 4.6299e-04 - accuracy: 0.9999\n",
            "Epoch 43/100\n",
            "117/117 [==============================] - 1s 7ms/step - loss: 5.2058e-04 - accuracy: 0.9998\n",
            "Epoch 44/100\n",
            "117/117 [==============================] - 1s 7ms/step - loss: 3.7496e-04 - accuracy: 0.9999\n",
            "Epoch 45/100\n",
            "117/117 [==============================] - 1s 7ms/step - loss: 3.7404e-04 - accuracy: 0.9999\n",
            "Epoch 46/100\n",
            "117/117 [==============================] - 1s 7ms/step - loss: 3.4228e-04 - accuracy: 0.9999\n",
            "Epoch 47/100\n",
            "117/117 [==============================] - 1s 7ms/step - loss: 4.2423e-04 - accuracy: 1.0000\n",
            "Epoch 48/100\n",
            "117/117 [==============================] - 1s 7ms/step - loss: 4.0990e-04 - accuracy: 1.0000\n",
            "Epoch 49/100\n",
            "117/117 [==============================] - 1s 7ms/step - loss: 3.6689e-04 - accuracy: 1.0000\n",
            "Epoch 50/100\n",
            "117/117 [==============================] - 1s 7ms/step - loss: 2.8249e-04 - accuracy: 1.0000\n",
            "Epoch 51/100\n",
            "117/117 [==============================] - 1s 7ms/step - loss: 2.6040e-04 - accuracy: 1.0000\n",
            "Epoch 52/100\n",
            "117/117 [==============================] - 1s 7ms/step - loss: 2.1275e-04 - accuracy: 1.0000\n",
            "Epoch 53/100\n",
            "117/117 [==============================] - 1s 7ms/step - loss: 2.7262e-04 - accuracy: 1.0000\n",
            "Epoch 54/100\n",
            "117/117 [==============================] - 1s 7ms/step - loss: 2.3278e-04 - accuracy: 1.0000\n",
            "Epoch 55/100\n",
            "117/117 [==============================] - 1s 7ms/step - loss: 3.0062e-04 - accuracy: 1.0000\n",
            "Epoch 56/100\n",
            "117/117 [==============================] - 1s 7ms/step - loss: 2.3880e-04 - accuracy: 1.0000\n",
            "Epoch 57/100\n",
            "117/117 [==============================] - 1s 7ms/step - loss: 1.8409e-04 - accuracy: 1.0000\n",
            "Epoch 58/100\n",
            "117/117 [==============================] - 1s 7ms/step - loss: 1.5006e-04 - accuracy: 1.0000\n",
            "Epoch 59/100\n",
            "117/117 [==============================] - 1s 7ms/step - loss: 4.9261e-04 - accuracy: 1.0000\n",
            "Epoch 60/100\n",
            "117/117 [==============================] - 1s 7ms/step - loss: 2.6099e-04 - accuracy: 1.0000\n",
            "Epoch 61/100\n",
            "117/117 [==============================] - 1s 7ms/step - loss: 1.1699e-04 - accuracy: 1.0000\n",
            "Epoch 62/100\n",
            "117/117 [==============================] - 1s 7ms/step - loss: 1.5073e-04 - accuracy: 1.0000\n",
            "Epoch 63/100\n",
            "117/117 [==============================] - 1s 7ms/step - loss: 1.2154e-04 - accuracy: 1.0000\n",
            "Epoch 64/100\n",
            "117/117 [==============================] - 1s 7ms/step - loss: 9.7805e-05 - accuracy: 1.0000\n",
            "Epoch 65/100\n",
            "117/117 [==============================] - 1s 8ms/step - loss: 1.7735e-04 - accuracy: 1.0000\n",
            "Epoch 66/100\n",
            "117/117 [==============================] - 1s 7ms/step - loss: 6.9943e-05 - accuracy: 1.0000\n",
            "Epoch 67/100\n",
            "117/117 [==============================] - 1s 7ms/step - loss: 6.8835e-05 - accuracy: 1.0000\n",
            "Epoch 68/100\n",
            "117/117 [==============================] - 1s 7ms/step - loss: 1.2128e-04 - accuracy: 1.0000\n",
            "Epoch 69/100\n",
            "117/117 [==============================] - 1s 7ms/step - loss: 9.3234e-05 - accuracy: 1.0000\n",
            "Epoch 70/100\n",
            "117/117 [==============================] - 1s 7ms/step - loss: 9.9201e-05 - accuracy: 1.0000\n",
            "Epoch 71/100\n",
            "117/117 [==============================] - 1s 7ms/step - loss: 1.0591e-04 - accuracy: 1.0000\n",
            "Epoch 72/100\n",
            "117/117 [==============================] - 1s 7ms/step - loss: 5.4663e-05 - accuracy: 1.0000\n",
            "Epoch 73/100\n",
            "117/117 [==============================] - 1s 7ms/step - loss: 5.8716e-05 - accuracy: 1.0000\n",
            "Epoch 74/100\n",
            "117/117 [==============================] - 1s 7ms/step - loss: 8.6892e-05 - accuracy: 1.0000\n",
            "Epoch 75/100\n",
            "117/117 [==============================] - 1s 7ms/step - loss: 7.9846e-05 - accuracy: 1.0000\n",
            "Epoch 76/100\n",
            "117/117 [==============================] - 1s 7ms/step - loss: 4.7381e-05 - accuracy: 1.0000\n",
            "Epoch 77/100\n",
            "117/117 [==============================] - 1s 7ms/step - loss: 4.5928e-05 - accuracy: 1.0000\n",
            "Epoch 78/100\n",
            "117/117 [==============================] - 1s 7ms/step - loss: 3.7933e-05 - accuracy: 1.0000\n",
            "Epoch 79/100\n",
            "117/117 [==============================] - 1s 7ms/step - loss: 3.9234e-05 - accuracy: 1.0000\n",
            "Epoch 80/100\n",
            "117/117 [==============================] - 1s 7ms/step - loss: 3.2104e-05 - accuracy: 1.0000\n",
            "Epoch 81/100\n",
            "117/117 [==============================] - 1s 7ms/step - loss: 4.5240e-05 - accuracy: 1.0000\n",
            "Epoch 82/100\n",
            "117/117 [==============================] - 1s 7ms/step - loss: 3.0472e-05 - accuracy: 1.0000\n",
            "Epoch 83/100\n",
            "117/117 [==============================] - 1s 7ms/step - loss: 2.5827e-05 - accuracy: 1.0000\n",
            "Epoch 84/100\n",
            "117/117 [==============================] - 1s 7ms/step - loss: 4.8895e-05 - accuracy: 1.0000\n",
            "Epoch 85/100\n",
            "117/117 [==============================] - 1s 7ms/step - loss: 3.2604e-05 - accuracy: 1.0000\n",
            "Epoch 86/100\n",
            "117/117 [==============================] - 1s 7ms/step - loss: 3.1101e-05 - accuracy: 1.0000\n",
            "Epoch 87/100\n",
            "117/117 [==============================] - 1s 7ms/step - loss: 3.5864e-05 - accuracy: 1.0000\n",
            "Epoch 88/100\n",
            "117/117 [==============================] - 1s 7ms/step - loss: 4.1577e-05 - accuracy: 1.0000\n",
            "Epoch 89/100\n",
            "117/117 [==============================] - 1s 7ms/step - loss: 2.4019e-05 - accuracy: 1.0000\n",
            "Epoch 90/100\n",
            "117/117 [==============================] - 1s 7ms/step - loss: 2.0544e-05 - accuracy: 1.0000\n",
            "Epoch 91/100\n",
            "117/117 [==============================] - 1s 7ms/step - loss: 2.2496e-05 - accuracy: 1.0000\n",
            "Epoch 92/100\n",
            "117/117 [==============================] - 1s 7ms/step - loss: 2.5633e-05 - accuracy: 1.0000\n",
            "Epoch 93/100\n",
            "117/117 [==============================] - 1s 7ms/step - loss: 3.2341e-05 - accuracy: 1.0000\n",
            "Epoch 94/100\n",
            "117/117 [==============================] - 1s 7ms/step - loss: 1.3810e-05 - accuracy: 1.0000\n",
            "Epoch 95/100\n",
            "117/117 [==============================] - 1s 7ms/step - loss: 1.4694e-05 - accuracy: 1.0000\n",
            "Epoch 96/100\n",
            "117/117 [==============================] - 1s 7ms/step - loss: 1.3750e-05 - accuracy: 1.0000\n",
            "Epoch 97/100\n",
            "117/117 [==============================] - 1s 7ms/step - loss: 2.6248e-05 - accuracy: 1.0000\n",
            "Epoch 98/100\n",
            "117/117 [==============================] - 1s 7ms/step - loss: 1.3173e-05 - accuracy: 1.0000\n",
            "Epoch 99/100\n",
            "117/117 [==============================] - 1s 7ms/step - loss: 1.1732e-05 - accuracy: 1.0000\n",
            "Epoch 100/100\n",
            "117/117 [==============================] - 1s 7ms/step - loss: 1.9586e-05 - accuracy: 1.0000\n"
          ],
          "name": "stdout"
        },
        {
          "output_type": "execute_result",
          "data": {
            "text/plain": [
              "<tensorflow.python.keras.callbacks.History at 0x7f1fe29b0910>"
            ]
          },
          "metadata": {
            "tags": []
          },
          "execution_count": 290
        }
      ]
    },
    {
      "cell_type": "code",
      "metadata": {
        "id": "vBfJGk7-Pixm"
      },
      "source": [
        "predicted = model.predict(X_test, batch_size=32)"
      ],
      "execution_count": 292,
      "outputs": []
    },
    {
      "cell_type": "code",
      "metadata": {
        "colab": {
          "base_uri": "https://localhost:8080/"
        },
        "id": "O_GQIMhLQeza",
        "outputId": "ee3073b4-1005-4181-97d9-5e057ee7a8f7"
      },
      "source": [
        "accuracy_score(y_test, predicted.round())"
      ],
      "execution_count": 296,
      "outputs": [
        {
          "output_type": "execute_result",
          "data": {
            "text/plain": [
              "0.9820554649265906"
            ]
          },
          "metadata": {
            "tags": []
          },
          "execution_count": 296
        }
      ]
    }
  ]
}